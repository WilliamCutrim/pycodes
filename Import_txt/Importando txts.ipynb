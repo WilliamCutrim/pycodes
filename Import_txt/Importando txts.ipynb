{
 "cells": [
  {
   "cell_type": "code",
   "execution_count": 1,
   "metadata": {},
   "outputs": [],
   "source": [
    "import pandas as pd\n",
    "import numpy as np"
   ]
  },
  {
   "cell_type": "markdown",
   "metadata": {},
   "source": [
    "## Semicolon"
   ]
  },
  {
   "cell_type": "code",
   "execution_count": 2,
   "metadata": {
    "scrolled": false
   },
   "outputs": [],
   "source": [
    "caminho='C:/Users/William/Desktop/Programando Py/'\n",
    "arquivo='semmicomma.txt'"
   ]
  },
  {
   "cell_type": "code",
   "execution_count": 3,
   "metadata": {},
   "outputs": [
    {
     "data": {
      "text/plain": [
       "'C:/Users/William/Desktop/Programando Py/semmicomma.txt'"
      ]
     },
     "execution_count": 3,
     "metadata": {},
     "output_type": "execute_result"
    }
   ],
   "source": [
    "path1=caminho+arquivo\n",
    "path1"
   ]
  },
  {
   "cell_type": "code",
   "execution_count": 4,
   "metadata": {
    "scrolled": true
   },
   "outputs": [
    {
     "data": {
      "text/html": [
       "<div>\n",
       "<style scoped>\n",
       "    .dataframe tbody tr th:only-of-type {\n",
       "        vertical-align: middle;\n",
       "    }\n",
       "\n",
       "    .dataframe tbody tr th {\n",
       "        vertical-align: top;\n",
       "    }\n",
       "\n",
       "    .dataframe thead th {\n",
       "        text-align: right;\n",
       "    }\n",
       "</style>\n",
       "<table border=\"1\" class=\"dataframe\">\n",
       "  <thead>\n",
       "    <tr style=\"text-align: right;\">\n",
       "      <th></th>\n",
       "      <th>CPF</th>\n",
       "      <th>Matrícula</th>\n",
       "      <th>Nome</th>\n",
       "      <th>Centro_de_Custo</th>\n",
       "      <th>Valor</th>\n",
       "    </tr>\n",
       "  </thead>\n",
       "  <tbody>\n",
       "    <tr>\n",
       "      <th>0</th>\n",
       "      <td>8301607</td>\n",
       "      <td>37788</td>\n",
       "      <td>A1</td>\n",
       "      <td>C19751</td>\n",
       "      <td>480</td>\n",
       "    </tr>\n",
       "    <tr>\n",
       "      <th>1</th>\n",
       "      <td>2880529</td>\n",
       "      <td>42950</td>\n",
       "      <td>A2</td>\n",
       "      <td>C78006</td>\n",
       "      <td>2261</td>\n",
       "    </tr>\n",
       "    <tr>\n",
       "      <th>2</th>\n",
       "      <td>1765770</td>\n",
       "      <td>59895</td>\n",
       "      <td>A3</td>\n",
       "      <td>D16400</td>\n",
       "      <td>382</td>\n",
       "    </tr>\n",
       "    <tr>\n",
       "      <th>3</th>\n",
       "      <td>3413183</td>\n",
       "      <td>67318</td>\n",
       "      <td>A4</td>\n",
       "      <td>C63529</td>\n",
       "      <td>448</td>\n",
       "    </tr>\n",
       "    <tr>\n",
       "      <th>4</th>\n",
       "      <td>2305859</td>\n",
       "      <td>45910</td>\n",
       "      <td>A5</td>\n",
       "      <td>C49036</td>\n",
       "      <td>2684</td>\n",
       "    </tr>\n",
       "  </tbody>\n",
       "</table>\n",
       "</div>"
      ],
      "text/plain": [
       "       CPF Matrícula Nome Centro_de_Custo Valor\n",
       "0  8301607     37788   A1          C19751   480\n",
       "1  2880529     42950   A2          C78006  2261\n",
       "2  1765770     59895   A3          D16400   382\n",
       "3  3413183     67318   A4          C63529   448\n",
       "4  2305859     45910   A5          C49036  2684"
      ]
     },
     "execution_count": 4,
     "metadata": {},
     "output_type": "execute_result"
    }
   ],
   "source": [
    "df1 = pd.read_csv(path1, sep=';', dtype='unicode',engine='python',skiprows=0)\n",
    "df1.head()"
   ]
  },
  {
   "cell_type": "markdown",
   "metadata": {},
   "source": [
    "## Comma"
   ]
  },
  {
   "cell_type": "code",
   "execution_count": 5,
   "metadata": {},
   "outputs": [],
   "source": [
    "arquivo2='comma.txt'"
   ]
  },
  {
   "cell_type": "code",
   "execution_count": 6,
   "metadata": {},
   "outputs": [
    {
     "data": {
      "text/plain": [
       "'C:/Users/William/Desktop/Programando Py/comma.txt'"
      ]
     },
     "execution_count": 6,
     "metadata": {},
     "output_type": "execute_result"
    }
   ],
   "source": [
    "path2=caminho+arquivo2\n",
    "path2"
   ]
  },
  {
   "cell_type": "code",
   "execution_count": 7,
   "metadata": {
    "scrolled": true
   },
   "outputs": [
    {
     "data": {
      "text/html": [
       "<div>\n",
       "<style scoped>\n",
       "    .dataframe tbody tr th:only-of-type {\n",
       "        vertical-align: middle;\n",
       "    }\n",
       "\n",
       "    .dataframe tbody tr th {\n",
       "        vertical-align: top;\n",
       "    }\n",
       "\n",
       "    .dataframe thead th {\n",
       "        text-align: right;\n",
       "    }\n",
       "</style>\n",
       "<table border=\"1\" class=\"dataframe\">\n",
       "  <thead>\n",
       "    <tr style=\"text-align: right;\">\n",
       "      <th></th>\n",
       "      <th>CPF</th>\n",
       "      <th>Matrícula</th>\n",
       "      <th>Nome</th>\n",
       "      <th>Centro_de_Custo</th>\n",
       "      <th>Valor</th>\n",
       "    </tr>\n",
       "  </thead>\n",
       "  <tbody>\n",
       "    <tr>\n",
       "      <th>0</th>\n",
       "      <td>8301607</td>\n",
       "      <td>37788</td>\n",
       "      <td>A1</td>\n",
       "      <td>C19751</td>\n",
       "      <td>480</td>\n",
       "    </tr>\n",
       "    <tr>\n",
       "      <th>1</th>\n",
       "      <td>2880529</td>\n",
       "      <td>42950</td>\n",
       "      <td>A2</td>\n",
       "      <td>C78006</td>\n",
       "      <td>2261</td>\n",
       "    </tr>\n",
       "    <tr>\n",
       "      <th>2</th>\n",
       "      <td>1765770</td>\n",
       "      <td>59895</td>\n",
       "      <td>A3</td>\n",
       "      <td>D16400</td>\n",
       "      <td>382</td>\n",
       "    </tr>\n",
       "    <tr>\n",
       "      <th>3</th>\n",
       "      <td>3413183</td>\n",
       "      <td>67318</td>\n",
       "      <td>A4</td>\n",
       "      <td>C63529</td>\n",
       "      <td>448</td>\n",
       "    </tr>\n",
       "    <tr>\n",
       "      <th>4</th>\n",
       "      <td>2305859</td>\n",
       "      <td>45910</td>\n",
       "      <td>A5</td>\n",
       "      <td>C49036</td>\n",
       "      <td>2684</td>\n",
       "    </tr>\n",
       "  </tbody>\n",
       "</table>\n",
       "</div>"
      ],
      "text/plain": [
       "       CPF Matrícula Nome Centro_de_Custo Valor\n",
       "0  8301607     37788   A1          C19751   480\n",
       "1  2880529     42950   A2          C78006  2261\n",
       "2  1765770     59895   A3          D16400   382\n",
       "3  3413183     67318   A4          C63529   448\n",
       "4  2305859     45910   A5          C49036  2684"
      ]
     },
     "execution_count": 7,
     "metadata": {},
     "output_type": "execute_result"
    }
   ],
   "source": [
    "df2 = pd.read_csv(path2, sep=',', dtype='unicode',engine='python',skiprows=0)\n",
    "df2.head()"
   ]
  },
  {
   "cell_type": "markdown",
   "metadata": {},
   "source": [
    "## Rashtag"
   ]
  },
  {
   "cell_type": "code",
   "execution_count": 8,
   "metadata": {},
   "outputs": [],
   "source": [
    "arquivo3='rashtag.txt'"
   ]
  },
  {
   "cell_type": "code",
   "execution_count": 9,
   "metadata": {},
   "outputs": [
    {
     "data": {
      "text/plain": [
       "'C:/Users/William/Desktop/Programando Py/rashtag.txt'"
      ]
     },
     "execution_count": 9,
     "metadata": {},
     "output_type": "execute_result"
    }
   ],
   "source": [
    "path3=caminho+arquivo3\n",
    "path3"
   ]
  },
  {
   "cell_type": "code",
   "execution_count": 10,
   "metadata": {
    "scrolled": true
   },
   "outputs": [
    {
     "data": {
      "text/html": [
       "<div>\n",
       "<style scoped>\n",
       "    .dataframe tbody tr th:only-of-type {\n",
       "        vertical-align: middle;\n",
       "    }\n",
       "\n",
       "    .dataframe tbody tr th {\n",
       "        vertical-align: top;\n",
       "    }\n",
       "\n",
       "    .dataframe thead th {\n",
       "        text-align: right;\n",
       "    }\n",
       "</style>\n",
       "<table border=\"1\" class=\"dataframe\">\n",
       "  <thead>\n",
       "    <tr style=\"text-align: right;\">\n",
       "      <th></th>\n",
       "      <th>CPF</th>\n",
       "      <th>Matrícula</th>\n",
       "      <th>Nome</th>\n",
       "      <th>Centro_de_Custo</th>\n",
       "      <th>Valor</th>\n",
       "    </tr>\n",
       "  </thead>\n",
       "  <tbody>\n",
       "    <tr>\n",
       "      <th>0</th>\n",
       "      <td>8301607</td>\n",
       "      <td>37788</td>\n",
       "      <td>A1</td>\n",
       "      <td>C19751</td>\n",
       "      <td>480</td>\n",
       "    </tr>\n",
       "    <tr>\n",
       "      <th>1</th>\n",
       "      <td>2880529</td>\n",
       "      <td>42950</td>\n",
       "      <td>A2</td>\n",
       "      <td>C78006</td>\n",
       "      <td>2261</td>\n",
       "    </tr>\n",
       "    <tr>\n",
       "      <th>2</th>\n",
       "      <td>1765770</td>\n",
       "      <td>59895</td>\n",
       "      <td>A3</td>\n",
       "      <td>D16400</td>\n",
       "      <td>382</td>\n",
       "    </tr>\n",
       "    <tr>\n",
       "      <th>3</th>\n",
       "      <td>3413183</td>\n",
       "      <td>67318</td>\n",
       "      <td>A4</td>\n",
       "      <td>C63529</td>\n",
       "      <td>448</td>\n",
       "    </tr>\n",
       "    <tr>\n",
       "      <th>4</th>\n",
       "      <td>2305859</td>\n",
       "      <td>45910</td>\n",
       "      <td>A5</td>\n",
       "      <td>C49036</td>\n",
       "      <td>2684</td>\n",
       "    </tr>\n",
       "  </tbody>\n",
       "</table>\n",
       "</div>"
      ],
      "text/plain": [
       "       CPF Matrícula Nome Centro_de_Custo Valor\n",
       "0  8301607     37788   A1          C19751   480\n",
       "1  2880529     42950   A2          C78006  2261\n",
       "2  1765770     59895   A3          D16400   382\n",
       "3  3413183     67318   A4          C63529   448\n",
       "4  2305859     45910   A5          C49036  2684"
      ]
     },
     "execution_count": 10,
     "metadata": {},
     "output_type": "execute_result"
    }
   ],
   "source": [
    "df3 = pd.read_csv(path3, sep='\\#', dtype='unicode',engine='python',skiprows=0)\n",
    "df3.head()"
   ]
  },
  {
   "cell_type": "markdown",
   "metadata": {},
   "source": [
    "## Barra Vertical"
   ]
  },
  {
   "cell_type": "code",
   "execution_count": 11,
   "metadata": {},
   "outputs": [],
   "source": [
    "arquivo4='barra_vertical.txt'"
   ]
  },
  {
   "cell_type": "code",
   "execution_count": 12,
   "metadata": {},
   "outputs": [
    {
     "data": {
      "text/plain": [
       "'C:/Users/William/Desktop/Programando Py/barra_vertical.txt'"
      ]
     },
     "execution_count": 12,
     "metadata": {},
     "output_type": "execute_result"
    }
   ],
   "source": [
    "path4=caminho+arquivo4\n",
    "path4"
   ]
  },
  {
   "cell_type": "code",
   "execution_count": 13,
   "metadata": {
    "scrolled": true
   },
   "outputs": [
    {
     "data": {
      "text/html": [
       "<div>\n",
       "<style scoped>\n",
       "    .dataframe tbody tr th:only-of-type {\n",
       "        vertical-align: middle;\n",
       "    }\n",
       "\n",
       "    .dataframe tbody tr th {\n",
       "        vertical-align: top;\n",
       "    }\n",
       "\n",
       "    .dataframe thead th {\n",
       "        text-align: right;\n",
       "    }\n",
       "</style>\n",
       "<table border=\"1\" class=\"dataframe\">\n",
       "  <thead>\n",
       "    <tr style=\"text-align: right;\">\n",
       "      <th></th>\n",
       "      <th>CPF</th>\n",
       "      <th>Matrícula</th>\n",
       "      <th>Nome</th>\n",
       "      <th>Centro_de_Custo</th>\n",
       "      <th>Valor</th>\n",
       "    </tr>\n",
       "  </thead>\n",
       "  <tbody>\n",
       "    <tr>\n",
       "      <th>0</th>\n",
       "      <td>8301607</td>\n",
       "      <td>37788</td>\n",
       "      <td>A1</td>\n",
       "      <td>C19751</td>\n",
       "      <td>480</td>\n",
       "    </tr>\n",
       "    <tr>\n",
       "      <th>1</th>\n",
       "      <td>2880529</td>\n",
       "      <td>42950</td>\n",
       "      <td>A2</td>\n",
       "      <td>C78006</td>\n",
       "      <td>2261</td>\n",
       "    </tr>\n",
       "    <tr>\n",
       "      <th>2</th>\n",
       "      <td>1765770</td>\n",
       "      <td>59895</td>\n",
       "      <td>A3</td>\n",
       "      <td>D16400</td>\n",
       "      <td>382</td>\n",
       "    </tr>\n",
       "    <tr>\n",
       "      <th>3</th>\n",
       "      <td>3413183</td>\n",
       "      <td>67318</td>\n",
       "      <td>A4</td>\n",
       "      <td>C63529</td>\n",
       "      <td>448</td>\n",
       "    </tr>\n",
       "    <tr>\n",
       "      <th>4</th>\n",
       "      <td>2305859</td>\n",
       "      <td>45910</td>\n",
       "      <td>A5</td>\n",
       "      <td>C49036</td>\n",
       "      <td>2684</td>\n",
       "    </tr>\n",
       "  </tbody>\n",
       "</table>\n",
       "</div>"
      ],
      "text/plain": [
       "       CPF Matrícula Nome Centro_de_Custo Valor\n",
       "0  8301607     37788   A1          C19751   480\n",
       "1  2880529     42950   A2          C78006  2261\n",
       "2  1765770     59895   A3          D16400   382\n",
       "3  3413183     67318   A4          C63529   448\n",
       "4  2305859     45910   A5          C49036  2684"
      ]
     },
     "execution_count": 13,
     "metadata": {},
     "output_type": "execute_result"
    }
   ],
   "source": [
    "df4 = pd.read_csv(path4, sep='\\|', dtype='unicode',engine='python',skiprows=0, index_col=False)\n",
    "df4.head()"
   ]
  },
  {
   "cell_type": "markdown",
   "metadata": {},
   "source": [
    "## Fixed"
   ]
  },
  {
   "cell_type": "code",
   "execution_count": 14,
   "metadata": {},
   "outputs": [],
   "source": [
    "arquivo5='fixed.txt'"
   ]
  },
  {
   "cell_type": "code",
   "execution_count": 15,
   "metadata": {},
   "outputs": [
    {
     "data": {
      "text/plain": [
       "'C:/Users/William/Desktop/Programando Py/fixed.txt'"
      ]
     },
     "execution_count": 15,
     "metadata": {},
     "output_type": "execute_result"
    }
   ],
   "source": [
    "path5=caminho+arquivo5\n",
    "path5"
   ]
  },
  {
   "cell_type": "code",
   "execution_count": 16,
   "metadata": {
    "scrolled": false
   },
   "outputs": [
    {
     "data": {
      "text/html": [
       "<div>\n",
       "<style scoped>\n",
       "    .dataframe tbody tr th:only-of-type {\n",
       "        vertical-align: middle;\n",
       "    }\n",
       "\n",
       "    .dataframe tbody tr th {\n",
       "        vertical-align: top;\n",
       "    }\n",
       "\n",
       "    .dataframe thead th {\n",
       "        text-align: right;\n",
       "    }\n",
       "</style>\n",
       "<table border=\"1\" class=\"dataframe\">\n",
       "  <thead>\n",
       "    <tr style=\"text-align: right;\">\n",
       "      <th></th>\n",
       "      <th>CPF   M</th>\n",
       "      <th>atrícula</th>\n",
       "      <th>Nome</th>\n",
       "      <th>Centr</th>\n",
       "      <th>o_de_Custo</th>\n",
       "    </tr>\n",
       "  </thead>\n",
       "  <tbody>\n",
       "    <tr>\n",
       "      <th>0</th>\n",
       "      <td>8301607</td>\n",
       "      <td>37788</td>\n",
       "      <td>A1</td>\n",
       "      <td>C19751</td>\n",
       "      <td>480</td>\n",
       "    </tr>\n",
       "    <tr>\n",
       "      <th>1</th>\n",
       "      <td>2880529</td>\n",
       "      <td>42950</td>\n",
       "      <td>A2</td>\n",
       "      <td>C78006</td>\n",
       "      <td>2261</td>\n",
       "    </tr>\n",
       "    <tr>\n",
       "      <th>2</th>\n",
       "      <td>1765770</td>\n",
       "      <td>59895</td>\n",
       "      <td>A3</td>\n",
       "      <td>D16400</td>\n",
       "      <td>382</td>\n",
       "    </tr>\n",
       "    <tr>\n",
       "      <th>3</th>\n",
       "      <td>3413183</td>\n",
       "      <td>67318</td>\n",
       "      <td>A4</td>\n",
       "      <td>C63529</td>\n",
       "      <td>448</td>\n",
       "    </tr>\n",
       "    <tr>\n",
       "      <th>4</th>\n",
       "      <td>2305859</td>\n",
       "      <td>45910</td>\n",
       "      <td>A5</td>\n",
       "      <td>C49036</td>\n",
       "      <td>2684</td>\n",
       "    </tr>\n",
       "  </tbody>\n",
       "</table>\n",
       "</div>"
      ],
      "text/plain": [
       "   CPF   M  atrícula Nome   Centr  o_de_Custo\n",
       "0  8301607     37788   A1  C19751         480\n",
       "1  2880529     42950   A2  C78006        2261\n",
       "2  1765770     59895   A3  D16400         382\n",
       "3  3413183     67318   A4  C63529         448\n",
       "4  2305859     45910   A5  C49036        2684"
      ]
     },
     "execution_count": 16,
     "metadata": {},
     "output_type": "execute_result"
    }
   ],
   "source": [
    "# Using Pandas with a column specification\n",
    "col_specification = [(0, 7), (7, 16), (16, 22), (22, 30),(30,40)]\n",
    "df5 = pd.read_fwf(path5, colspecs=col_specification,skiprows=0)\n",
    "df5.head()"
   ]
  },
  {
   "cell_type": "markdown",
   "metadata": {},
   "source": [
    "## XLSX"
   ]
  },
  {
   "cell_type": "code",
   "execution_count": 17,
   "metadata": {},
   "outputs": [],
   "source": [
    "arquivo6='gerador.xlsx'"
   ]
  },
  {
   "cell_type": "code",
   "execution_count": 18,
   "metadata": {},
   "outputs": [
    {
     "data": {
      "text/plain": [
       "'C:/Users/William/Desktop/Programando Py/gerador.xlsx'"
      ]
     },
     "execution_count": 18,
     "metadata": {},
     "output_type": "execute_result"
    }
   ],
   "source": [
    "path6=caminho+arquivo6\n",
    "path6"
   ]
  },
  {
   "cell_type": "code",
   "execution_count": 19,
   "metadata": {
    "scrolled": true
   },
   "outputs": [
    {
     "data": {
      "text/html": [
       "<div>\n",
       "<style scoped>\n",
       "    .dataframe tbody tr th:only-of-type {\n",
       "        vertical-align: middle;\n",
       "    }\n",
       "\n",
       "    .dataframe tbody tr th {\n",
       "        vertical-align: top;\n",
       "    }\n",
       "\n",
       "    .dataframe thead th {\n",
       "        text-align: right;\n",
       "    }\n",
       "</style>\n",
       "<table border=\"1\" class=\"dataframe\">\n",
       "  <thead>\n",
       "    <tr style=\"text-align: right;\">\n",
       "      <th></th>\n",
       "      <th>CPF   M</th>\n",
       "      <th>atrícula</th>\n",
       "      <th>Nome</th>\n",
       "      <th>Centr</th>\n",
       "      <th>o_de_Custo   Valor</th>\n",
       "    </tr>\n",
       "  </thead>\n",
       "  <tbody>\n",
       "    <tr>\n",
       "      <th>0</th>\n",
       "      <td>8301607</td>\n",
       "      <td>37788</td>\n",
       "      <td>A1</td>\n",
       "      <td>C19751</td>\n",
       "      <td>480</td>\n",
       "    </tr>\n",
       "    <tr>\n",
       "      <th>1</th>\n",
       "      <td>2880529</td>\n",
       "      <td>42950</td>\n",
       "      <td>A2</td>\n",
       "      <td>C78006</td>\n",
       "      <td>2261</td>\n",
       "    </tr>\n",
       "    <tr>\n",
       "      <th>2</th>\n",
       "      <td>1765770</td>\n",
       "      <td>59895</td>\n",
       "      <td>A3</td>\n",
       "      <td>D16400</td>\n",
       "      <td>382</td>\n",
       "    </tr>\n",
       "    <tr>\n",
       "      <th>3</th>\n",
       "      <td>3413183</td>\n",
       "      <td>67318</td>\n",
       "      <td>A4</td>\n",
       "      <td>C63529</td>\n",
       "      <td>448</td>\n",
       "    </tr>\n",
       "    <tr>\n",
       "      <th>4</th>\n",
       "      <td>2305859</td>\n",
       "      <td>45910</td>\n",
       "      <td>A5</td>\n",
       "      <td>C49036</td>\n",
       "      <td>2684</td>\n",
       "    </tr>\n",
       "  </tbody>\n",
       "</table>\n",
       "</div>"
      ],
      "text/plain": [
       "   CPF   M  atrícula Nome   Centr  o_de_Custo   Valor\n",
       "0  8301607     37788   A1  C19751                 480\n",
       "1  2880529     42950   A2  C78006                2261\n",
       "2  1765770     59895   A3  D16400                 382\n",
       "3  3413183     67318   A4  C63529                 448\n",
       "4  2305859     45910   A5  C49036                2684"
      ]
     },
     "execution_count": 19,
     "metadata": {},
     "output_type": "execute_result"
    }
   ],
   "source": [
    "df6 = pd.read_excel(path6,sheet_name=1,header=0)\n",
    "df6.head()"
   ]
  },
  {
   "cell_type": "code",
   "execution_count": 20,
   "metadata": {},
   "outputs": [],
   "source": [
    "cols=df6.columns"
   ]
  },
  {
   "cell_type": "code",
   "execution_count": 21,
   "metadata": {},
   "outputs": [
    {
     "data": {
      "text/plain": [
       "RangeIndex(start=0, stop=39, step=1)"
      ]
     },
     "execution_count": 21,
     "metadata": {},
     "output_type": "execute_result"
    }
   ],
   "source": [
    "df6.index"
   ]
  },
  {
   "cell_type": "markdown",
   "metadata": {},
   "source": [
    "# Tentando usar pivot"
   ]
  },
  {
   "cell_type": "raw",
   "metadata": {},
   "source": [
    "https://pandas.pydata.org/pandas-docs/stable/reference/api/pandas.pivot_table.html"
   ]
  },
  {
   "cell_type": "code",
   "execution_count": 22,
   "metadata": {
    "scrolled": true
   },
   "outputs": [
    {
     "data": {
      "text/html": [
       "<div>\n",
       "<style scoped>\n",
       "    .dataframe tbody tr th:only-of-type {\n",
       "        vertical-align: middle;\n",
       "    }\n",
       "\n",
       "    .dataframe tbody tr th {\n",
       "        vertical-align: top;\n",
       "    }\n",
       "\n",
       "    .dataframe thead th {\n",
       "        text-align: right;\n",
       "    }\n",
       "</style>\n",
       "<table border=\"1\" class=\"dataframe\">\n",
       "  <thead>\n",
       "    <tr style=\"text-align: right;\">\n",
       "      <th></th>\n",
       "      <th>CPF   M</th>\n",
       "      <th>atrícula</th>\n",
       "      <th>Nome</th>\n",
       "      <th>Centr</th>\n",
       "      <th>o_de_Custo   Valor</th>\n",
       "    </tr>\n",
       "  </thead>\n",
       "  <tbody>\n",
       "    <tr>\n",
       "      <th>0</th>\n",
       "      <td>8301607</td>\n",
       "      <td>37788</td>\n",
       "      <td>A1</td>\n",
       "      <td>C19751</td>\n",
       "      <td>480</td>\n",
       "    </tr>\n",
       "    <tr>\n",
       "      <th>1</th>\n",
       "      <td>2880529</td>\n",
       "      <td>42950</td>\n",
       "      <td>A2</td>\n",
       "      <td>C78006</td>\n",
       "      <td>2261</td>\n",
       "    </tr>\n",
       "    <tr>\n",
       "      <th>2</th>\n",
       "      <td>1765770</td>\n",
       "      <td>59895</td>\n",
       "      <td>A3</td>\n",
       "      <td>D16400</td>\n",
       "      <td>382</td>\n",
       "    </tr>\n",
       "    <tr>\n",
       "      <th>3</th>\n",
       "      <td>3413183</td>\n",
       "      <td>67318</td>\n",
       "      <td>A4</td>\n",
       "      <td>C63529</td>\n",
       "      <td>448</td>\n",
       "    </tr>\n",
       "    <tr>\n",
       "      <th>4</th>\n",
       "      <td>2305859</td>\n",
       "      <td>45910</td>\n",
       "      <td>A5</td>\n",
       "      <td>C49036</td>\n",
       "      <td>2684</td>\n",
       "    </tr>\n",
       "  </tbody>\n",
       "</table>\n",
       "</div>"
      ],
      "text/plain": [
       "   CPF   M atrícula Nome   Centr o_de_Custo   Valor\n",
       "0  8301607    37788   A1  C19751                480\n",
       "1  2880529    42950   A2  C78006               2261\n",
       "2  1765770    59895   A3  D16400                382\n",
       "3  3413183    67318   A4  C63529                448\n",
       "4  2305859    45910   A5  C49036               2684"
      ]
     },
     "execution_count": 22,
     "metadata": {},
     "output_type": "execute_result"
    }
   ],
   "source": [
    "pd.DataFrame(data=df6.values,columns=cols, index=None).head()"
   ]
  },
  {
   "cell_type": "code",
   "execution_count": 23,
   "metadata": {
    "collapsed": true
   },
   "outputs": [
    {
     "data": {
      "text/html": [
       "<div>\n",
       "<style scoped>\n",
       "    .dataframe tbody tr th:only-of-type {\n",
       "        vertical-align: middle;\n",
       "    }\n",
       "\n",
       "    .dataframe tbody tr th {\n",
       "        vertical-align: top;\n",
       "    }\n",
       "\n",
       "    .dataframe thead th {\n",
       "        text-align: right;\n",
       "    }\n",
       "</style>\n",
       "<table border=\"1\" class=\"dataframe\">\n",
       "  <thead>\n",
       "    <tr style=\"text-align: right;\">\n",
       "      <th></th>\n",
       "      <th>CPF</th>\n",
       "      <th>Matrícula</th>\n",
       "      <th>Nome</th>\n",
       "      <th>Centro_de_Custo</th>\n",
       "      <th>Valor</th>\n",
       "    </tr>\n",
       "  </thead>\n",
       "  <tbody>\n",
       "    <tr>\n",
       "      <th>count</th>\n",
       "      <td>39</td>\n",
       "      <td>39</td>\n",
       "      <td>39</td>\n",
       "      <td>39</td>\n",
       "      <td>39</td>\n",
       "    </tr>\n",
       "    <tr>\n",
       "      <th>unique</th>\n",
       "      <td>22</td>\n",
       "      <td>22</td>\n",
       "      <td>22</td>\n",
       "      <td>22</td>\n",
       "      <td>39</td>\n",
       "    </tr>\n",
       "    <tr>\n",
       "      <th>top</th>\n",
       "      <td>6211373</td>\n",
       "      <td>54880</td>\n",
       "      <td>A6</td>\n",
       "      <td>C39952</td>\n",
       "      <td>1136</td>\n",
       "    </tr>\n",
       "    <tr>\n",
       "      <th>freq</th>\n",
       "      <td>4</td>\n",
       "      <td>4</td>\n",
       "      <td>4</td>\n",
       "      <td>4</td>\n",
       "      <td>1</td>\n",
       "    </tr>\n",
       "  </tbody>\n",
       "</table>\n",
       "</div>"
      ],
      "text/plain": [
       "            CPF Matrícula Nome Centro_de_Custo Valor\n",
       "count        39        39   39              39    39\n",
       "unique       22        22   22              22    39\n",
       "top     6211373     54880   A6          C39952  1136\n",
       "freq          4         4    4               4     1"
      ]
     },
     "execution_count": 23,
     "metadata": {},
     "output_type": "execute_result"
    }
   ],
   "source": [
    "df4.describe()"
   ]
  },
  {
   "cell_type": "code",
   "execution_count": 39,
   "metadata": {
    "collapsed": true
   },
   "outputs": [
    {
     "data": {
      "text/plain": [
       "CPF                object\n",
       "Matrícula          object\n",
       "Nome               object\n",
       "Centro_de_Custo    object\n",
       "Valor              object\n",
       "dtype: object"
      ]
     },
     "execution_count": 39,
     "metadata": {},
     "output_type": "execute_result"
    }
   ],
   "source": [
    "df4.dtypes"
   ]
  },
  {
   "cell_type": "code",
   "execution_count": 40,
   "metadata": {},
   "outputs": [],
   "source": [
    "################Importante\n",
    "convert_dict={'Valor':float}"
   ]
  },
  {
   "cell_type": "code",
   "execution_count": 43,
   "metadata": {
    "collapsed": true
   },
   "outputs": [
    {
     "name": "stdout",
     "output_type": "stream",
     "text": [
      "CPF                 object\n",
      "Matrícula           object\n",
      "Nome                object\n",
      "Centro_de_Custo     object\n",
      "Valor              float64\n",
      "dtype: object\n"
     ]
    }
   ],
   "source": [
    "################Importante\n",
    "df41=df4.astype(convert_dict)\n",
    "print(df41.dtypes)"
   ]
  },
  {
   "cell_type": "code",
   "execution_count": 71,
   "metadata": {
    "collapsed": true
   },
   "outputs": [
    {
     "ename": "SyntaxError",
     "evalue": "keyword can't be an expression (<ipython-input-71-dfc22e6127d6>, line 1)",
     "output_type": "error",
     "traceback": [
      "\u001b[1;36m  File \u001b[1;32m\"<ipython-input-71-dfc22e6127d6>\"\u001b[1;36m, line \u001b[1;32m1\u001b[0m\n\u001b[1;33m    df4.loc('Centro_de_Custo'=C39952)\u001b[0m\n\u001b[1;37m           ^\u001b[0m\n\u001b[1;31mSyntaxError\u001b[0m\u001b[1;31m:\u001b[0m keyword can't be an expression\n"
     ]
    }
   ],
   "source": [
    "df4.loc('Centro_de_Custo'=C39952)"
   ]
  },
  {
   "cell_type": "code",
   "execution_count": 68,
   "metadata": {
    "scrolled": true
   },
   "outputs": [
    {
     "data": {
      "text/html": [
       "<div>\n",
       "<style scoped>\n",
       "    .dataframe tbody tr th:only-of-type {\n",
       "        vertical-align: middle;\n",
       "    }\n",
       "\n",
       "    .dataframe tbody tr th {\n",
       "        vertical-align: top;\n",
       "    }\n",
       "\n",
       "    .dataframe thead th {\n",
       "        text-align: right;\n",
       "    }\n",
       "</style>\n",
       "<table border=\"1\" class=\"dataframe\">\n",
       "  <thead>\n",
       "    <tr style=\"text-align: right;\">\n",
       "      <th></th>\n",
       "      <th></th>\n",
       "      <th>Valor</th>\n",
       "    </tr>\n",
       "    <tr>\n",
       "      <th>Centro_de_Custo</th>\n",
       "      <th>Matrícula</th>\n",
       "      <th></th>\n",
       "    </tr>\n",
       "  </thead>\n",
       "  <tbody>\n",
       "    <tr>\n",
       "      <th>B21652</th>\n",
       "      <th>24338</th>\n",
       "      <td>74.0</td>\n",
       "    </tr>\n",
       "    <tr>\n",
       "      <th>B39244</th>\n",
       "      <th>71007</th>\n",
       "      <td>1379.0</td>\n",
       "    </tr>\n",
       "    <tr>\n",
       "      <th>B65036</th>\n",
       "      <th>69901</th>\n",
       "      <td>2919.0</td>\n",
       "    </tr>\n",
       "    <tr>\n",
       "      <th>B75592</th>\n",
       "      <th>89353</th>\n",
       "      <td>2109.0</td>\n",
       "    </tr>\n",
       "    <tr>\n",
       "      <th>B78962</th>\n",
       "      <th>25890</th>\n",
       "      <td>1420.0</td>\n",
       "    </tr>\n",
       "    <tr>\n",
       "      <th>B89499</th>\n",
       "      <th>28159</th>\n",
       "      <td>3552.0</td>\n",
       "    </tr>\n",
       "    <tr>\n",
       "      <th>B90811</th>\n",
       "      <th>72522</th>\n",
       "      <td>1448.0</td>\n",
       "    </tr>\n",
       "    <tr>\n",
       "      <th>C19751</th>\n",
       "      <th>37788</th>\n",
       "      <td>480.0</td>\n",
       "    </tr>\n",
       "    <tr>\n",
       "      <th>C22903</th>\n",
       "      <th>64710</th>\n",
       "      <td>2475.0</td>\n",
       "    </tr>\n",
       "    <tr>\n",
       "      <th>C27388</th>\n",
       "      <th>33431</th>\n",
       "      <td>3191.0</td>\n",
       "    </tr>\n",
       "    <tr>\n",
       "      <th>C39952</th>\n",
       "      <th>54880</th>\n",
       "      <td>2255.0</td>\n",
       "    </tr>\n",
       "    <tr>\n",
       "      <th>C49036</th>\n",
       "      <th>45910</th>\n",
       "      <td>8579.0</td>\n",
       "    </tr>\n",
       "    <tr>\n",
       "      <th>C60653</th>\n",
       "      <th>83741</th>\n",
       "      <td>4457.0</td>\n",
       "    </tr>\n",
       "    <tr>\n",
       "      <th>C63529</th>\n",
       "      <th>67318</th>\n",
       "      <td>4032.0</td>\n",
       "    </tr>\n",
       "    <tr>\n",
       "      <th>C78006</th>\n",
       "      <th>42950</th>\n",
       "      <td>2261.0</td>\n",
       "    </tr>\n",
       "    <tr>\n",
       "      <th>C84757</th>\n",
       "      <th>52443</th>\n",
       "      <td>4281.0</td>\n",
       "    </tr>\n",
       "    <tr>\n",
       "      <th>D16400</th>\n",
       "      <th>59895</th>\n",
       "      <td>382.0</td>\n",
       "    </tr>\n",
       "    <tr>\n",
       "      <th>D30399</th>\n",
       "      <th>52812</th>\n",
       "      <td>2426.0</td>\n",
       "    </tr>\n",
       "    <tr>\n",
       "      <th>D36705</th>\n",
       "      <th>56319</th>\n",
       "      <td>911.0</td>\n",
       "    </tr>\n",
       "    <tr>\n",
       "      <th>D46657</th>\n",
       "      <th>49504</th>\n",
       "      <td>4228.0</td>\n",
       "    </tr>\n",
       "    <tr>\n",
       "      <th>D63484</th>\n",
       "      <th>40754</th>\n",
       "      <td>1454.0</td>\n",
       "    </tr>\n",
       "    <tr>\n",
       "      <th>D76182</th>\n",
       "      <th>49059</th>\n",
       "      <td>3814.0</td>\n",
       "    </tr>\n",
       "  </tbody>\n",
       "</table>\n",
       "</div>"
      ],
      "text/plain": [
       "                            Valor\n",
       "Centro_de_Custo Matrícula        \n",
       "B21652          24338        74.0\n",
       "B39244          71007      1379.0\n",
       "B65036          69901      2919.0\n",
       "B75592          89353      2109.0\n",
       "B78962          25890      1420.0\n",
       "B89499          28159      3552.0\n",
       "B90811          72522      1448.0\n",
       "C19751          37788       480.0\n",
       "C22903          64710      2475.0\n",
       "C27388          33431      3191.0\n",
       "C39952          54880      2255.0\n",
       "C49036          45910      8579.0\n",
       "C60653          83741      4457.0\n",
       "C63529          67318      4032.0\n",
       "C78006          42950      2261.0\n",
       "C84757          52443      4281.0\n",
       "D16400          59895       382.0\n",
       "D30399          52812      2426.0\n",
       "D36705          56319       911.0\n",
       "D46657          49504      4228.0\n",
       "D63484          40754      1454.0\n",
       "D76182          49059      3814.0"
      ]
     },
     "execution_count": 68,
     "metadata": {},
     "output_type": "execute_result"
    }
   ],
   "source": [
    "pd.pivot_table(df41,values=['Valor'],index=['Centro_de_Custo','Matrícula'],aggfunc=np.sum)"
   ]
  },
  {
   "cell_type": "code",
   "execution_count": 69,
   "metadata": {},
   "outputs": [],
   "source": [
    "df41.loc['sum']=df41.sum()"
   ]
  },
  {
   "cell_type": "code",
   "execution_count": 70,
   "metadata": {
    "scrolled": true
   },
   "outputs": [
    {
     "data": {
      "text/html": [
       "<div>\n",
       "<style scoped>\n",
       "    .dataframe tbody tr th:only-of-type {\n",
       "        vertical-align: middle;\n",
       "    }\n",
       "\n",
       "    .dataframe tbody tr th {\n",
       "        vertical-align: top;\n",
       "    }\n",
       "\n",
       "    .dataframe thead th {\n",
       "        text-align: right;\n",
       "    }\n",
       "</style>\n",
       "<table border=\"1\" class=\"dataframe\">\n",
       "  <thead>\n",
       "    <tr style=\"text-align: right;\">\n",
       "      <th></th>\n",
       "      <th>CPF</th>\n",
       "      <th>Matrícula</th>\n",
       "      <th>Nome</th>\n",
       "      <th>Centro_de_Custo</th>\n",
       "      <th>Valor</th>\n",
       "    </tr>\n",
       "  </thead>\n",
       "  <tbody>\n",
       "    <tr>\n",
       "      <th>0</th>\n",
       "      <td>8301607</td>\n",
       "      <td>37788</td>\n",
       "      <td>A1</td>\n",
       "      <td>C19751</td>\n",
       "      <td>480.0</td>\n",
       "    </tr>\n",
       "    <tr>\n",
       "      <th>1</th>\n",
       "      <td>2880529</td>\n",
       "      <td>42950</td>\n",
       "      <td>A2</td>\n",
       "      <td>C78006</td>\n",
       "      <td>2261.0</td>\n",
       "    </tr>\n",
       "    <tr>\n",
       "      <th>2</th>\n",
       "      <td>1765770</td>\n",
       "      <td>59895</td>\n",
       "      <td>A3</td>\n",
       "      <td>D16400</td>\n",
       "      <td>382.0</td>\n",
       "    </tr>\n",
       "    <tr>\n",
       "      <th>3</th>\n",
       "      <td>3413183</td>\n",
       "      <td>67318</td>\n",
       "      <td>A4</td>\n",
       "      <td>C63529</td>\n",
       "      <td>448.0</td>\n",
       "    </tr>\n",
       "    <tr>\n",
       "      <th>4</th>\n",
       "      <td>2305859</td>\n",
       "      <td>45910</td>\n",
       "      <td>A5</td>\n",
       "      <td>C49036</td>\n",
       "      <td>2684.0</td>\n",
       "    </tr>\n",
       "    <tr>\n",
       "      <th>5</th>\n",
       "      <td>6211373</td>\n",
       "      <td>54880</td>\n",
       "      <td>A6</td>\n",
       "      <td>C39952</td>\n",
       "      <td>421.0</td>\n",
       "    </tr>\n",
       "    <tr>\n",
       "      <th>6</th>\n",
       "      <td>6322341</td>\n",
       "      <td>28159</td>\n",
       "      <td>A7</td>\n",
       "      <td>B89499</td>\n",
       "      <td>3552.0</td>\n",
       "    </tr>\n",
       "    <tr>\n",
       "      <th>7</th>\n",
       "      <td>6397062</td>\n",
       "      <td>72522</td>\n",
       "      <td>A8</td>\n",
       "      <td>B90811</td>\n",
       "      <td>1448.0</td>\n",
       "    </tr>\n",
       "    <tr>\n",
       "      <th>8</th>\n",
       "      <td>2930254</td>\n",
       "      <td>25890</td>\n",
       "      <td>A9</td>\n",
       "      <td>B78962</td>\n",
       "      <td>1420.0</td>\n",
       "    </tr>\n",
       "    <tr>\n",
       "      <th>9</th>\n",
       "      <td>3886389</td>\n",
       "      <td>24338</td>\n",
       "      <td>A10</td>\n",
       "      <td>B21652</td>\n",
       "      <td>74.0</td>\n",
       "    </tr>\n",
       "    <tr>\n",
       "      <th>10</th>\n",
       "      <td>4032629</td>\n",
       "      <td>71007</td>\n",
       "      <td>A11</td>\n",
       "      <td>B39244</td>\n",
       "      <td>1379.0</td>\n",
       "    </tr>\n",
       "    <tr>\n",
       "      <th>11</th>\n",
       "      <td>2929816</td>\n",
       "      <td>56319</td>\n",
       "      <td>A12</td>\n",
       "      <td>D36705</td>\n",
       "      <td>911.0</td>\n",
       "    </tr>\n",
       "    <tr>\n",
       "      <th>12</th>\n",
       "      <td>9231990</td>\n",
       "      <td>83741</td>\n",
       "      <td>A13</td>\n",
       "      <td>C60653</td>\n",
       "      <td>3218.0</td>\n",
       "    </tr>\n",
       "    <tr>\n",
       "      <th>13</th>\n",
       "      <td>3180697</td>\n",
       "      <td>52443</td>\n",
       "      <td>A14</td>\n",
       "      <td>C84757</td>\n",
       "      <td>1941.0</td>\n",
       "    </tr>\n",
       "    <tr>\n",
       "      <th>14</th>\n",
       "      <td>7634570</td>\n",
       "      <td>89353</td>\n",
       "      <td>A15</td>\n",
       "      <td>B75592</td>\n",
       "      <td>329.0</td>\n",
       "    </tr>\n",
       "    <tr>\n",
       "      <th>15</th>\n",
       "      <td>8791000</td>\n",
       "      <td>69901</td>\n",
       "      <td>A16</td>\n",
       "      <td>B65036</td>\n",
       "      <td>2557.0</td>\n",
       "    </tr>\n",
       "    <tr>\n",
       "      <th>16</th>\n",
       "      <td>6237209</td>\n",
       "      <td>49059</td>\n",
       "      <td>A17</td>\n",
       "      <td>D76182</td>\n",
       "      <td>1237.0</td>\n",
       "    </tr>\n",
       "    <tr>\n",
       "      <th>17</th>\n",
       "      <td>3627792</td>\n",
       "      <td>49504</td>\n",
       "      <td>A18</td>\n",
       "      <td>D46657</td>\n",
       "      <td>2612.0</td>\n",
       "    </tr>\n",
       "    <tr>\n",
       "      <th>18</th>\n",
       "      <td>3623365</td>\n",
       "      <td>64710</td>\n",
       "      <td>A19</td>\n",
       "      <td>C22903</td>\n",
       "      <td>1043.0</td>\n",
       "    </tr>\n",
       "    <tr>\n",
       "      <th>19</th>\n",
       "      <td>3153344</td>\n",
       "      <td>33431</td>\n",
       "      <td>A20</td>\n",
       "      <td>C27388</td>\n",
       "      <td>3086.0</td>\n",
       "    </tr>\n",
       "    <tr>\n",
       "      <th>20</th>\n",
       "      <td>2587435</td>\n",
       "      <td>40754</td>\n",
       "      <td>A21</td>\n",
       "      <td>D63484</td>\n",
       "      <td>606.0</td>\n",
       "    </tr>\n",
       "    <tr>\n",
       "      <th>21</th>\n",
       "      <td>1912308</td>\n",
       "      <td>52812</td>\n",
       "      <td>A22</td>\n",
       "      <td>D30399</td>\n",
       "      <td>1524.0</td>\n",
       "    </tr>\n",
       "    <tr>\n",
       "      <th>22</th>\n",
       "      <td>9231990</td>\n",
       "      <td>83741</td>\n",
       "      <td>A13</td>\n",
       "      <td>C60653</td>\n",
       "      <td>1239.0</td>\n",
       "    </tr>\n",
       "    <tr>\n",
       "      <th>23</th>\n",
       "      <td>3180697</td>\n",
       "      <td>52443</td>\n",
       "      <td>A14</td>\n",
       "      <td>C84757</td>\n",
       "      <td>2340.0</td>\n",
       "    </tr>\n",
       "    <tr>\n",
       "      <th>24</th>\n",
       "      <td>7634570</td>\n",
       "      <td>89353</td>\n",
       "      <td>A15</td>\n",
       "      <td>B75592</td>\n",
       "      <td>1780.0</td>\n",
       "    </tr>\n",
       "    <tr>\n",
       "      <th>25</th>\n",
       "      <td>8791000</td>\n",
       "      <td>69901</td>\n",
       "      <td>A16</td>\n",
       "      <td>B65036</td>\n",
       "      <td>362.0</td>\n",
       "    </tr>\n",
       "    <tr>\n",
       "      <th>26</th>\n",
       "      <td>6237209</td>\n",
       "      <td>49059</td>\n",
       "      <td>A17</td>\n",
       "      <td>D76182</td>\n",
       "      <td>2577.0</td>\n",
       "    </tr>\n",
       "    <tr>\n",
       "      <th>27</th>\n",
       "      <td>3627792</td>\n",
       "      <td>49504</td>\n",
       "      <td>A18</td>\n",
       "      <td>D46657</td>\n",
       "      <td>1616.0</td>\n",
       "    </tr>\n",
       "    <tr>\n",
       "      <th>28</th>\n",
       "      <td>3623365</td>\n",
       "      <td>64710</td>\n",
       "      <td>A19</td>\n",
       "      <td>C22903</td>\n",
       "      <td>1432.0</td>\n",
       "    </tr>\n",
       "    <tr>\n",
       "      <th>29</th>\n",
       "      <td>3153344</td>\n",
       "      <td>33431</td>\n",
       "      <td>A20</td>\n",
       "      <td>C27388</td>\n",
       "      <td>105.0</td>\n",
       "    </tr>\n",
       "    <tr>\n",
       "      <th>30</th>\n",
       "      <td>2587435</td>\n",
       "      <td>40754</td>\n",
       "      <td>A21</td>\n",
       "      <td>D63484</td>\n",
       "      <td>848.0</td>\n",
       "    </tr>\n",
       "    <tr>\n",
       "      <th>31</th>\n",
       "      <td>1912308</td>\n",
       "      <td>52812</td>\n",
       "      <td>A22</td>\n",
       "      <td>D30399</td>\n",
       "      <td>902.0</td>\n",
       "    </tr>\n",
       "    <tr>\n",
       "      <th>32</th>\n",
       "      <td>3413183</td>\n",
       "      <td>67318</td>\n",
       "      <td>A4</td>\n",
       "      <td>C63529</td>\n",
       "      <td>2934.0</td>\n",
       "    </tr>\n",
       "    <tr>\n",
       "      <th>33</th>\n",
       "      <td>2305859</td>\n",
       "      <td>45910</td>\n",
       "      <td>A5</td>\n",
       "      <td>C49036</td>\n",
       "      <td>2782.0</td>\n",
       "    </tr>\n",
       "    <tr>\n",
       "      <th>34</th>\n",
       "      <td>6211373</td>\n",
       "      <td>54880</td>\n",
       "      <td>A6</td>\n",
       "      <td>C39952</td>\n",
       "      <td>1136.0</td>\n",
       "    </tr>\n",
       "    <tr>\n",
       "      <th>35</th>\n",
       "      <td>3413183</td>\n",
       "      <td>67318</td>\n",
       "      <td>A4</td>\n",
       "      <td>C63529</td>\n",
       "      <td>650.0</td>\n",
       "    </tr>\n",
       "    <tr>\n",
       "      <th>36</th>\n",
       "      <td>2305859</td>\n",
       "      <td>45910</td>\n",
       "      <td>A5</td>\n",
       "      <td>C49036</td>\n",
       "      <td>3113.0</td>\n",
       "    </tr>\n",
       "    <tr>\n",
       "      <th>37</th>\n",
       "      <td>6211373</td>\n",
       "      <td>54880</td>\n",
       "      <td>A6</td>\n",
       "      <td>C39952</td>\n",
       "      <td>458.0</td>\n",
       "    </tr>\n",
       "    <tr>\n",
       "      <th>38</th>\n",
       "      <td>6211373</td>\n",
       "      <td>54880</td>\n",
       "      <td>A6</td>\n",
       "      <td>C39952</td>\n",
       "      <td>240.0</td>\n",
       "    </tr>\n",
       "    <tr>\n",
       "      <th>sum</th>\n",
       "      <td>NaN</td>\n",
       "      <td>NaN</td>\n",
       "      <td>NaN</td>\n",
       "      <td>NaN</td>\n",
       "      <td>290635.0</td>\n",
       "    </tr>\n",
       "  </tbody>\n",
       "</table>\n",
       "</div>"
      ],
      "text/plain": [
       "         CPF Matrícula Nome Centro_de_Custo     Valor\n",
       "0    8301607     37788   A1          C19751     480.0\n",
       "1    2880529     42950   A2          C78006    2261.0\n",
       "2    1765770     59895   A3          D16400     382.0\n",
       "3    3413183     67318   A4          C63529     448.0\n",
       "4    2305859     45910   A5          C49036    2684.0\n",
       "5    6211373     54880   A6          C39952     421.0\n",
       "6    6322341     28159   A7          B89499    3552.0\n",
       "7    6397062     72522   A8          B90811    1448.0\n",
       "8    2930254     25890   A9          B78962    1420.0\n",
       "9    3886389     24338  A10          B21652      74.0\n",
       "10   4032629     71007  A11          B39244    1379.0\n",
       "11   2929816     56319  A12          D36705     911.0\n",
       "12   9231990     83741  A13          C60653    3218.0\n",
       "13   3180697     52443  A14          C84757    1941.0\n",
       "14   7634570     89353  A15          B75592     329.0\n",
       "15   8791000     69901  A16          B65036    2557.0\n",
       "16   6237209     49059  A17          D76182    1237.0\n",
       "17   3627792     49504  A18          D46657    2612.0\n",
       "18   3623365     64710  A19          C22903    1043.0\n",
       "19   3153344     33431  A20          C27388    3086.0\n",
       "20   2587435     40754  A21          D63484     606.0\n",
       "21   1912308     52812  A22          D30399    1524.0\n",
       "22   9231990     83741  A13          C60653    1239.0\n",
       "23   3180697     52443  A14          C84757    2340.0\n",
       "24   7634570     89353  A15          B75592    1780.0\n",
       "25   8791000     69901  A16          B65036     362.0\n",
       "26   6237209     49059  A17          D76182    2577.0\n",
       "27   3627792     49504  A18          D46657    1616.0\n",
       "28   3623365     64710  A19          C22903    1432.0\n",
       "29   3153344     33431  A20          C27388     105.0\n",
       "30   2587435     40754  A21          D63484     848.0\n",
       "31   1912308     52812  A22          D30399     902.0\n",
       "32   3413183     67318   A4          C63529    2934.0\n",
       "33   2305859     45910   A5          C49036    2782.0\n",
       "34   6211373     54880   A6          C39952    1136.0\n",
       "35   3413183     67318   A4          C63529     650.0\n",
       "36   2305859     45910   A5          C49036    3113.0\n",
       "37   6211373     54880   A6          C39952     458.0\n",
       "38   6211373     54880   A6          C39952     240.0\n",
       "sum      NaN       NaN  NaN             NaN  290635.0"
      ]
     },
     "execution_count": 70,
     "metadata": {},
     "output_type": "execute_result"
    }
   ],
   "source": [
    "df41"
   ]
  },
  {
   "cell_type": "code",
   "execution_count": 65,
   "metadata": {},
   "outputs": [
    {
     "data": {
      "text/plain": [
       "Valor    58127.0\n",
       "dtype: float64"
      ]
     },
     "execution_count": 65,
     "metadata": {},
     "output_type": "execute_result"
    }
   ],
   "source": [
    "pd.pivot_table(df41,values=['Valor'],index=['Centro_de_Custo','Matrícula'],aggfunc=np.sum).sum()"
   ]
  },
  {
   "cell_type": "code",
   "execution_count": 28,
   "metadata": {},
   "outputs": [
    {
     "data": {
      "text/plain": [
       "<pandas.core.groupby.generic.DataFrameGroupBy object at 0x0000000009385D68>"
      ]
     },
     "execution_count": 28,
     "metadata": {},
     "output_type": "execute_result"
    }
   ],
   "source": [
    "df4.groupby('Centro_de_Custo')"
   ]
  },
  {
   "cell_type": "code",
   "execution_count": 27,
   "metadata": {},
   "outputs": [
    {
     "data": {
      "text/plain": [
       "<pandas.core.groupby.generic.DataFrameGroupBy object at 0x0000000005877630>"
      ]
     },
     "execution_count": 27,
     "metadata": {},
     "output_type": "execute_result"
    }
   ],
   "source": []
  }
 ],
 "metadata": {
  "kernelspec": {
   "display_name": "Python 3",
   "language": "python",
   "name": "python3"
  },
  "language_info": {
   "codemirror_mode": {
    "name": "ipython",
    "version": 3
   },
   "file_extension": ".py",
   "mimetype": "text/x-python",
   "name": "python",
   "nbconvert_exporter": "python",
   "pygments_lexer": "ipython3",
   "version": "3.7.3"
  }
 },
 "nbformat": 4,
 "nbformat_minor": 2
}
